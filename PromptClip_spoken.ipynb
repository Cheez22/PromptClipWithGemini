{
 "cells": [
  {
   "cell_type": "markdown",
   "metadata": {},
   "source": [
    "### Overview\n",
    "This notebook walks your through the process of creating clips with LLM prompts using spoken content of the video. \n",
    "\n",
    "Pick a video, decide your prompt, generate a new clip ⚡️\n",
    "\n",
    "It's as simple as it sounds.\n",
    "\n",
    "If you want to go extra mile you can score and rank your results, add Image Overlays or Audio overlays on these clips."
   ]
  },
  {
   "cell_type": "code",
   "execution_count": 1,
   "metadata": {
    "scrolled": true
   },
   "outputs": [
    {
     "name": "stdout",
     "output_type": "stream",
     "text": [
      "Requirement already satisfied: annotated-types==0.6.0 in /Users/ashu/opt/anaconda3/envs/videoDB/lib/python3.12/site-packages (from -r requirements.txt (line 1)) (0.6.0)\n",
      "Requirement already satisfied: anthropic==0.15.0 in /Users/ashu/opt/anaconda3/envs/videoDB/lib/python3.12/site-packages (from -r requirements.txt (line 2)) (0.15.0)\n",
      "Requirement already satisfied: anyio==4.2.0 in /Users/ashu/opt/anaconda3/envs/videoDB/lib/python3.12/site-packages (from -r requirements.txt (line 3)) (4.2.0)\n",
      "Requirement already satisfied: backoff==2.2.1 in /Users/ashu/opt/anaconda3/envs/videoDB/lib/python3.12/site-packages (from -r requirements.txt (line 4)) (2.2.1)\n",
      "Requirement already satisfied: certifi==2024.2.2 in /Users/ashu/opt/anaconda3/envs/videoDB/lib/python3.12/site-packages (from -r requirements.txt (line 5)) (2024.2.2)\n",
      "Requirement already satisfied: charset-normalizer==3.3.2 in /Users/ashu/opt/anaconda3/envs/videoDB/lib/python3.12/site-packages (from -r requirements.txt (line 6)) (3.3.2)\n",
      "Requirement already satisfied: distro==1.9.0 in /Users/ashu/opt/anaconda3/envs/videoDB/lib/python3.12/site-packages (from -r requirements.txt (line 7)) (1.9.0)\n",
      "Requirement already satisfied: exceptiongroup==1.2.0 in /Users/ashu/opt/anaconda3/envs/videoDB/lib/python3.12/site-packages (from -r requirements.txt (line 8)) (1.2.0)\n",
      "Requirement already satisfied: filelock==3.13.1 in /Users/ashu/opt/anaconda3/envs/videoDB/lib/python3.12/site-packages (from -r requirements.txt (line 9)) (3.13.1)\n",
      "Requirement already satisfied: fsspec==2024.2.0 in /Users/ashu/opt/anaconda3/envs/videoDB/lib/python3.12/site-packages (from -r requirements.txt (line 10)) (2024.2.0)\n",
      "Requirement already satisfied: h11==0.14.0 in /Users/ashu/opt/anaconda3/envs/videoDB/lib/python3.12/site-packages (from -r requirements.txt (line 11)) (0.14.0)\n",
      "Requirement already satisfied: httpcore==1.0.2 in /Users/ashu/opt/anaconda3/envs/videoDB/lib/python3.12/site-packages (from -r requirements.txt (line 12)) (1.0.2)\n",
      "Requirement already satisfied: httpx==0.26.0 in /Users/ashu/opt/anaconda3/envs/videoDB/lib/python3.12/site-packages (from -r requirements.txt (line 13)) (0.26.0)\n",
      "Requirement already satisfied: huggingface-hub==0.20.3 in /Users/ashu/opt/anaconda3/envs/videoDB/lib/python3.12/site-packages (from -r requirements.txt (line 14)) (0.20.3)\n",
      "Requirement already satisfied: idna==3.6 in /Users/ashu/opt/anaconda3/envs/videoDB/lib/python3.12/site-packages (from -r requirements.txt (line 15)) (3.6)\n",
      "Requirement already satisfied: packaging==23.2 in /Users/ashu/opt/anaconda3/envs/videoDB/lib/python3.12/site-packages (from -r requirements.txt (line 16)) (23.2)\n",
      "Requirement already satisfied: pydantic==2.6.1 in /Users/ashu/opt/anaconda3/envs/videoDB/lib/python3.12/site-packages (from -r requirements.txt (line 17)) (2.6.1)\n",
      "Requirement already satisfied: pydantic_core==2.16.2 in /Users/ashu/opt/anaconda3/envs/videoDB/lib/python3.12/site-packages (from -r requirements.txt (line 18)) (2.16.2)\n",
      "Requirement already satisfied: python-dotenv==1.0.1 in /Users/ashu/opt/anaconda3/envs/videoDB/lib/python3.12/site-packages (from -r requirements.txt (line 19)) (1.0.1)\n",
      "Requirement already satisfied: PyYAML==6.0.1 in /Users/ashu/opt/anaconda3/envs/videoDB/lib/python3.12/site-packages (from -r requirements.txt (line 20)) (6.0.1)\n",
      "Requirement already satisfied: requests==2.31.0 in /Users/ashu/opt/anaconda3/envs/videoDB/lib/python3.12/site-packages (from -r requirements.txt (line 21)) (2.31.0)\n",
      "Requirement already satisfied: sniffio==1.3.0 in /Users/ashu/opt/anaconda3/envs/videoDB/lib/python3.12/site-packages (from -r requirements.txt (line 22)) (1.3.0)\n",
      "Requirement already satisfied: tokenizers==0.15.1 in /Users/ashu/opt/anaconda3/envs/videoDB/lib/python3.12/site-packages (from -r requirements.txt (line 23)) (0.15.1)\n",
      "Requirement already satisfied: tqdm==4.66.1 in /Users/ashu/opt/anaconda3/envs/videoDB/lib/python3.12/site-packages (from -r requirements.txt (line 24)) (4.66.1)\n",
      "Requirement already satisfied: typing_extensions==4.9.0 in /Users/ashu/opt/anaconda3/envs/videoDB/lib/python3.12/site-packages (from -r requirements.txt (line 25)) (4.9.0)\n",
      "Requirement already satisfied: urllib3==2.2.0 in /Users/ashu/opt/anaconda3/envs/videoDB/lib/python3.12/site-packages (from -r requirements.txt (line 26)) (2.2.0)\n",
      "Requirement already satisfied: videodb==0.0.3 in /Users/ashu/opt/anaconda3/envs/videoDB/lib/python3.12/site-packages (from -r requirements.txt (line 27)) (0.0.3)\n"
     ]
    }
   ],
   "source": [
    "# But first, let's install the dependecies.\n",
    "!pip install -r requirements.txt"
   ]
  },
  {
   "cell_type": "markdown",
   "metadata": {},
   "source": [
    "### Choose the Video\n",
    "\n",
    "You can either use a fresh video from Youtube etc. or choose an exisitng one already uploaded on your VideoDB collection."
   ]
  },
  {
   "cell_type": "code",
   "execution_count": 2,
   "metadata": {
    "scrolled": true
   },
   "outputs": [],
   "source": [
    "import os\n",
    "from dotenv import load_dotenv\n",
    "from video_prompter import get_connection\n",
    "\n",
    "# TODO: setup .env file\n",
    "load_dotenv()\n",
    "OPENAI_KEY = os.getenv('OPENAI_API_KEY')\n",
    "\n",
    "# connect to VideoDB\n",
    "conn = get_connection()\n",
    "\n",
    "### ----- Upload a fresh video --------- #####\n",
    "def fresh_video(url):\n",
    "    video = conn.upload(url=url)\n",
    "    #index spoken content in the video\n",
    "    video.index_spoken_words()\n",
    "    return video\n",
    "\n",
    "#### ------ run the prompt on video --------####\n",
    "def videodb_prompter(video_id, prompt):\n",
    "    video = get_video(video_id)\n",
    "    #get all the segment of videos that are\n",
    "    return video_prompter(video, prompt)"
   ]
  },
  {
   "cell_type": "code",
   "execution_count": 3,
   "metadata": {
    "scrolled": true
   },
   "outputs": [
    {
     "data": {
      "text/plain": [
       "'https://console.videodb.io/player?url=https://stream.videodb.io/v3/published/manifests/1c9f0bc8-7258-4feb-a966-4323d879ccab.m3u8'"
      ]
     },
     "execution_count": 3,
     "metadata": {},
     "output_type": "execute_result"
    }
   ],
   "source": [
    "from videodb import play_stream\n",
    "\n",
    "# ----Existing video case ----\n",
    "\n",
    "# TODO: replace with your video id\n",
    "# video_id = \"m-replace-with-your-video-id-24-7\"\n",
    "video_id = 'm-ea0f53f3-a767-4058-8fb2-99df21d54917'\n",
    "\n",
    "\n",
    "# ---- Fresh video case ----\n",
    "# url = \"https://www.youtube.com/watch?v=HpUR7-Oe1ss\"\n",
    "# video = fresh_video(url)\n",
    "# video_id = video.id\n",
    "\n",
    "\n",
    "#watch the original video\n",
    "video = conn.get_collection().get_video(video_id)\n",
    "video.player_url"
   ]
  },
  {
   "cell_type": "markdown",
   "metadata": {},
   "source": [
    "### Run your Prompt\n",
    "\n",
    "To create a clip using the `text_prompter` function from a video, it's crucial to craft a specific prompt that will help identify the most relevant segments for your use case. This prompt should highlight the themes, topics, or specific phrases you're interested in. The function then analyzes the video's spoken content to find segments that match your criteria. \n",
    "\n",
    "Before you can use `text_prompter`, make sure the video's spoken content is indexed with the `video.index_spoken_words()` function. This prepares the video for analysis by making its spoken content searchable.\n",
    "\n",
    "The `text_prompter` will return sentences or segments from the video that match your prompt. Review these to ensure they align with your needs. You can then use these segments to create your clip, focusing on the content that's most relevant to your use case."
   ]
  },
  {
   "cell_type": "code",
   "execution_count": 68,
   "metadata": {
    "scrolled": true
   },
   "outputs": [
    {
     "name": "stdout",
     "output_type": "stream",
     "text": [
      "{'id': 'chatcmpl-8vLx9bi3Wrw0rLvEoneiDHazyO6Kn', 'object': 'chat.completion', 'created': 1708679775, 'model': 'gpt-4-0613', 'choices': [{'index': 0, 'message': {'role': 'assistant', 'content': '{\\n  \"sentences\": [\\n    \"Here\\'s where I\\'m at. $500,000 for 20% of a startup that has no revenue is way too high. You asked for too much. You made a strategic error. I\\'m out.\",\\n    \"And I\\'m Lori Crowley, Cassidy\\'s mom. And we\\'re from Honolulu, Hawaii. I\\'m seeking $50,000 in exchange for 50% of my. Company.\",\\n    \"It\\'s pretty rare that somebody comes in here and offers us 50%. Why did you do that? I mean, let\\'s face it. I\\'m only ten years old. I need a partner. I mean, I still have to go to high school.\",\\n    \"Cassidy, I\\'ve been doing little businesses since I was a kid. I can already tell from your presence, from your poise, from your grit that you\\'re going to go very, very far.\"\\n  ]\\n}'}, 'logprobs': None, 'finish_reason': 'stop'}], 'usage': {'prompt_tokens': 2752, 'completion_tokens': 193, 'total_tokens': 2945}, 'system_fingerprint': None}\n",
      "{'id': 'chatcmpl-8vLx9zCAQVVQziTTt09tRSVJggsMb', 'object': 'chat.completion', 'created': 1708679775, 'model': 'gpt-4-0613', 'choices': [{'index': 0, 'message': {'role': 'assistant', 'content': '{\\n  \"sentences\": [\\n    \"So guess what, young lady. I\\'m going to make you an offer because I have to be along with this journey. I\\'m giving you 50,000 for 50%. Wow. Flora me. You have a deal. Congratulations.\",\\n    \"You\\'re putting a real valuation on the table. Right? You\\'re saying my company is worth $7.5 million, and therefore, you must have blockbuster sales. I do. My lifetime sales is $7.4 million.\",\\n    \"This year I\\'m projected to do $5.6 million. What are you going to make on the 5.6 million? I\\'m going to make $1.3 million with the tariffs accounted for. So you\\'re making 20 plus percent margins. 25%. Why do you need a shark? Yeah. So I am here because I am looking for a strategic partner that can help take my company to the next level.\",\\n    \"Mark and I need to have a conference. So what do you want to do? If I give you $750,000 and I\\'m an outside investor? An investor? I\\'m not an operator. How do I get it back? So you will get it back when we scale.\",\\n    \"Okay, here\\'s our offer. Mark and I are going to give you the 750,000. For 20% because you got us both. Okay. Thank you. Thank you for the offer. Can I listen to Barbara and Kevin\\'s offer? We\\'re going to give you exactly the same offer.\",\\n    \"I know I should negotiate, be a good business partner. But I am here for Lori and Mark. Both of you, you have a deal.\"\\n  ]\\n}'}, 'logprobs': None, 'finish_reason': 'stop'}], 'usage': {'prompt_tokens': 2734, 'completion_tokens': 358, 'total_tokens': 3092}, 'system_fingerprint': None}\n",
      "{'id': 'chatcmpl-8vLx9qRXe8t7ooL9ZBXDc80hEyROQ', 'object': 'chat.completion', 'created': 1708679775, 'model': 'gpt-4-0613', 'choices': [{'index': 0, 'message': {'role': 'assistant', 'content': '{\\n  \"sentences\": [\\n    \"And we\\'re here seeking $270,000 for 2% of our company, Blue Land.\",\\n    \"Listening to Lori, I realized that there\\'s a piece of this she understands far better than I. So I would propose, without consulting with Lori, that we invest a million dollars. Whoa. For 25% of the company.\",\\n    \"What I\\'d like to do is do 270 for 5%, and I want 1% advisory shares, because frankly, I bring a lot to the table.\",\\n    \"We\\'ve changed our offer. We\\'re going to do 270 for 8%. Ouch. Four and four. That\\'s the offer.\",\\n    \"My offer is 270,000 for 6%, and the other is 270 for 8%. What do you want to do?\",\\n    \"Sarah and Syed came in seeking $270,000 for 2% of their eco friendly cleaning product company, Blue Land. Lori and Daniel have offered 270,000 for 8%, and Kevin has offered 270,000 for 6%. What do you want to do?\",\\n    \"Do you have a counter for any of us? 270 at 3%. Ooh.\",\\n    \"I\\'ll go to 5% for the 270.\",\\n    \"What if we kept you at 3% per 270, but then we give you a royalty of kit until you make your money back.\",\\n    \"The name of our company is minus Cow. We\\'re seeking $500,000 for 20% of the business.\"\\n  ]\\n}'}, 'logprobs': None, 'finish_reason': 'stop'}], 'usage': {'prompt_tokens': 2675, 'completion_tokens': 331, 'total_tokens': 3006}, 'system_fingerprint': None}\n",
      "{'id': 'chatcmpl-8vLx9KX7EdSxO5FJW73yfr2dof3Pn', 'object': 'chat.completion', 'created': 1708679775, 'model': 'gpt-4-0613', 'choices': [{'index': 0, 'message': {'role': 'assistant', 'content': '{\\n  \"sentences\": [\\n    \"So what we\\'re asking for is a $1 million capital investment for a 5% equity stake in boost oxygen.\",\\n    \"I\\'m going to make you an offer. But before I do, I want you to take a big breath because you\\'re going to need it. Let\\'s do it together. You\\'re not going to like the number, and it\\'s not going to be equity, that\\'s for sure. I feel better about this offer than I even felt a few seconds ago. So here\\'s what it is. You have good cash flow in this company, so you can support some debt. I\\'m going to give you the million bucks in a loan. 36 months, three years. Okay? 9% interest. And I want seven and a half percent equity.\",\\n    \"Well, I\\'m still concerned about taking on debt when we don\\'t need to take on debt, especially at 9%. You asked for a million dollars.\",\\n    \"You\\'re allowed to counter? Yeah, or he\\'ll pull it. Okay. What do you think? I think it\\'s a very valid point. Right. So we\\'ll do a million for 6% of the. Not 6% interest rate. 6%. The deal now is you\\'re countering me. Instead of giving me 9% interest, you want to give me six. Yes. But I keep my seven and a half percent. Right. 5% for 5%. Five. All right. Because we\\'re all reasonable. We meet in the middle, okay? That\\'s how we get this deal done. So I\\'m at nine, you\\'re at six. Seven and a half percent interest, no problem above 6% equity. Six and a quarter. Pretty sharp little numberonis. There. When we\\'re cutting. I think the deal is reasonable. Let\\'s go. We\\'ll take the deal.\",\\n    \"Quite honestly, I was very surprised to be shaking hands with Mr. Wonderful. Talking about a million dollar deal and the input that we received from the entire tank of sharks. It\\'s going to do nothing but take us from good to great.\"\\n  ]\\n}'}, 'logprobs': None, 'finish_reason': 'stop'}], 'usage': {'prompt_tokens': 1927, 'completion_tokens': 450, 'total_tokens': 2377}, 'system_fingerprint': None}\n"
     ]
    }
   ],
   "source": [
    "from video_prompter import text_prompter\n",
    "\n",
    "#Choose a prompt to create create clip. \n",
    "user_prompt = \"find sentences where a deal is discussed\"\n",
    "result = text_prompter(video.get_transcript_text(), user_prompt)"
   ]
  },
  {
   "cell_type": "markdown",
   "metadata": {},
   "source": [
    "### Generate the Clip\n",
    "\n",
    "To generate a clip, we'll  use **VideoDB**'s `keyword search` feature. We already leveraged the power of the LLM (Large Language Model) to identify relevant sentences. We'll use the search results to create a `programmable video stream`. Here's how you can approach this process:\n",
    "\n",
    "We have the keywords in the `results` variable. Input these keywords into VideoDB's keyword search feature. This function will search through the indexed spoken content of your videos to find matches. \n",
    "\n",
    "The search will return a SearchResult object, which contains detailed information about the found segments, including their timestamps, the text of the spoken content, and possibly other metadata.\n",
    "\n",
    "**Create a Programmable Video Stream with Timeline**: With the specific segments identified, you can now use the Timeline to create a new programmable video stream. The Timeline tool allows you to stitch together video segments based on the timestamps provided in the SearchResult object. You can arrange, cut, or combine these segments to craft a fresh video stream that focuses on your topic of interest."
   ]
  },
  {
   "cell_type": "code",
   "execution_count": 44,
   "metadata": {},
   "outputs": [],
   "source": [
    "# search matching video segments and watch the stream\n",
    "from videodb import SearchType\n",
    "from videodb.timeline import Timeline, VideoAsset, AudioAsset\n",
    "\n",
    "timeline = Timeline(conn)\n",
    "for clip_sentences in result:\n",
    "    search_res = video.search(clip_sentences, search_type=SearchType.keyword)\n",
    "    matched_segments = search_res.get_shots()\n",
    "    \n",
    "    #no exact match found.\n",
    "    if len(matched_segments) == 0:\n",
    "        continue\n",
    "\n",
    "    #video segment\n",
    "    video_shot = matched_segments[0]\n",
    "\n",
    "    #Create a new Video Asset and add it to a timeline.\n",
    "    timeline.add_inline(VideoAsset(asset_id=video.id, start=video_shot.start, end=video_shot.end))"
   ]
  },
  {
   "cell_type": "code",
   "execution_count": 42,
   "metadata": {},
   "outputs": [
    {
     "name": "stdout",
     "output_type": "stream",
     "text": [
      "https://stream.videodb.io/v3/published/manifests/f9dc7b07-e5a7-4a9d-8ab9-33e86b78e12e.m3u8\n"
     ]
    },
    {
     "data": {
      "text/plain": [
       "'https://console.videodb.io/player?url=https://stream.videodb.io/v3/published/manifests/f9dc7b07-e5a7-4a9d-8ab9-33e86b78e12e.m3u8'"
      ]
     },
     "execution_count": 42,
     "metadata": {},
     "output_type": "execute_result"
    }
   ],
   "source": [
    "stream = timeline.generate_stream()\n",
    "print(stream)\n",
    "play_stream(stream)"
   ]
  },
  {
   "cell_type": "markdown",
   "metadata": {},
   "source": [
    "### Modify the Timeline\n",
    "\n",
    "The programmable stream part of VideoDB allows you to not just watch the original clip but also modify and personalize the stream. Here we can add up the logo on each clip easily. You can read more about it here - https://docs.videodb.io/version-0-0-3-timeline-and-assets-44"
   ]
  },
  {
   "cell_type": "code",
   "execution_count": 49,
   "metadata": {},
   "outputs": [
    {
     "name": "stdout",
     "output_type": "stream",
     "text": [
      "Image(id=img-87fc6898-18ae-4d80-be51-cb12c7bd3dd1, collection_id=c-4adcd68a-50ef-4996-a37d-763af1d2d819, name=2hYi816d0St8fZ7RTNWeScRKpk)\n"
     ]
    }
   ],
   "source": [
    "# upload Image\n",
    "from videodb import MediaType\n",
    "\n",
    "image = conn.upload(url=\"https://www.freepnglogos.com/uploads/logo-ig-png/logo-ig-instagram-new-logo-vector-download-13.png\", media_type=MediaType.image)\n",
    "print(image)"
   ]
  },
  {
   "cell_type": "code",
   "execution_count": 50,
   "metadata": {},
   "outputs": [],
   "source": [
    "from videodb.asset import VideoAsset, AudioAsset, ImageAsset\n",
    "\n",
    "image_asset = ImageAsset(\n",
    "    asset_id=image.id,\n",
    "    width=100,\n",
    "    height=100,\n",
    "    x=80,\n",
    "    y=20,\n",
    "    duration=7\n",
    ")"
   ]
  },
  {
   "cell_type": "code",
   "execution_count": 51,
   "metadata": {},
   "outputs": [
    {
     "data": {
      "text/plain": [
       "'https://console.videodb.io/player?url=https://stream.videodb.io/v3/published/manifests/ef726137-6d9d-4497-b833-116a4d464861.m3u8'"
      ]
     },
     "execution_count": 51,
     "metadata": {},
     "output_type": "execute_result"
    }
   ],
   "source": [
    "timeline.add_overlay(0, image_asset)\n",
    "stream = timeline.generate_stream()\n",
    "play_stream(stream)"
   ]
  },
  {
   "cell_type": "markdown",
   "metadata": {},
   "source": [
    "### Bonus : Ranking using LLM\n",
    "If you want to choose only a few top results and wodering how to do it, have LLM to rank your results and create a score that you can use to decide the order of segments. You can modify the ranking prompt creativiely to drive the outcome of it. We would love to see what you create 🙌🏼"
   ]
  },
  {
   "cell_type": "code",
   "execution_count": 60,
   "metadata": {},
   "outputs": [],
   "source": [
    "from llm_agent import LLM\n",
    "import re\n",
    "import json\n",
    "from math import floor\n",
    "\n",
    "def ranking_prompt_llm(text, prompt):\n",
    "    ranking_prompt = \"\"\"Given the text provided below and a specific User Prompt, evaluate the relevance of the text\n",
    "    in relation to the user's prompt. Please assign a relevance score ranging from 0 to 10, where 0 indicates no relevance \n",
    "    and 10 signifies perfect alignment with the user's request.\n",
    "    The score quality also increases when the text is a complete senetence, making it perfect for a video clip result\"\"\"\n",
    "\n",
    "    # pass the data\n",
    "    ranking_prompt += f\"\"\"\n",
    "    text: {text}\n",
    "    User Prompt: {prompt}\n",
    "    \"\"\"\n",
    "\n",
    "    # Add instructions to always return JSON at the end of processing.\n",
    "    ranking_prompt += \"\"\"\n",
    "    Ensure the final output strictly adheres to the JSON format specified, without including additional text or explanations. \n",
    "    Use the following structure for your response:\n",
    "    {\n",
    "      \"score\": <relevance score>\n",
    "    }\n",
    "    \"\"\"\n",
    "    try:\n",
    "        response = LLM().chat(message=ranking_prompt)\n",
    "        print(response)\n",
    "        output = response[\"choices\"][0][\"message\"][\"content\"]\n",
    "        res = json.loads(output)\n",
    "        score = res.get('score')\n",
    "        return score\n",
    "    except Exception as e:\n",
    "        return 0 \n",
    "\n",
    "def rank_results(res, prompt, score_percentage=0.40):\n",
    "    \"\"\"\n",
    "    rank and give score to each result\n",
    "    \"\"\"\n",
    "    res_score = []\n",
    "    for text in res:\n",
    "        res_score.append((text, ranking_prompt_llm(text,prompt)))\n",
    "    \n",
    "    res_score_sorted = sorted(res_score, key=lambda x: x[1], reverse=True)\n",
    "    return res_score_sorted[0: floor(len(res_score_sorted)*score_percentage)]"
   ]
  },
  {
   "cell_type": "code",
   "execution_count": 63,
   "metadata": {
    "scrolled": true
   },
   "outputs": [
    {
     "name": "stdout",
     "output_type": "stream",
     "text": [
      "{'id': 'chatcmpl-8vLUCC1Eg5sAaEoM7HF2oGx7xvqXP', 'object': 'chat.completion', 'created': 1708677980, 'model': 'gpt-4-0613', 'choices': [{'index': 0, 'message': {'role': 'assistant', 'content': '{\\n  \"score\": 9\\n}'}, 'logprobs': None, 'finish_reason': 'stop'}], 'usage': {'prompt_tokens': 195, 'completion_tokens': 9, 'total_tokens': 204}, 'system_fingerprint': None}\n",
      "{'id': 'chatcmpl-8vLUEwptmGHRHDG4eKkxtBsgAL6OP', 'object': 'chat.completion', 'created': 1708677982, 'model': 'gpt-4-0613', 'choices': [{'index': 0, 'message': {'role': 'assistant', 'content': '{\\n  \"score\": 10\\n}'}, 'logprobs': None, 'finish_reason': 'stop'}], 'usage': {'prompt_tokens': 174, 'completion_tokens': 9, 'total_tokens': 183}, 'system_fingerprint': None}\n",
      "{'id': 'chatcmpl-8vLUGGYcDCmaXZt8e6RwK6cCE6Mwa', 'object': 'chat.completion', 'created': 1708677984, 'model': 'gpt-4-0613', 'choices': [{'index': 0, 'message': {'role': 'assistant', 'content': '{\"score\": 0}'}, 'logprobs': None, 'finish_reason': 'stop'}], 'usage': {'prompt_tokens': 196, 'completion_tokens': 6, 'total_tokens': 202}, 'system_fingerprint': None}\n",
      "{'id': 'chatcmpl-8vLUJT9YD69gPv3BgPIFzVjUftO88', 'object': 'chat.completion', 'created': 1708677987, 'model': 'gpt-4-0613', 'choices': [{'index': 0, 'message': {'role': 'assistant', 'content': '{\\n  \"score\": 9.5\\n}'}, 'logprobs': None, 'finish_reason': 'stop'}], 'usage': {'prompt_tokens': 172, 'completion_tokens': 11, 'total_tokens': 183}, 'system_fingerprint': None}\n",
      "{'id': 'chatcmpl-8vLUKnHbVA3wfasSasAYMPhcev4Xb', 'object': 'chat.completion', 'created': 1708677988, 'model': 'gpt-4-0613', 'choices': [{'index': 0, 'message': {'role': 'assistant', 'content': '{\\n  \"score\": 9\\n}'}, 'logprobs': None, 'finish_reason': 'stop'}], 'usage': {'prompt_tokens': 179, 'completion_tokens': 9, 'total_tokens': 188}, 'system_fingerprint': None}\n",
      "{'id': 'chatcmpl-8vLULdPWp8v0gapuzhqV6JUdCtgH6', 'object': 'chat.completion', 'created': 1708677989, 'model': 'gpt-4-0613', 'choices': [{'index': 0, 'message': {'role': 'assistant', 'content': '{\\n  \"score\": 8\\n}'}, 'logprobs': None, 'finish_reason': 'stop'}], 'usage': {'prompt_tokens': 186, 'completion_tokens': 9, 'total_tokens': 195}, 'system_fingerprint': None}\n",
      "{'id': 'chatcmpl-8vLUMi3sOGNVMXH4hQjxEoYjcckMn', 'object': 'chat.completion', 'created': 1708677990, 'model': 'gpt-4-0613', 'choices': [{'index': 0, 'message': {'role': 'assistant', 'content': '{\\n  \"score\": 8\\n}'}, 'logprobs': None, 'finish_reason': 'stop'}], 'usage': {'prompt_tokens': 175, 'completion_tokens': 9, 'total_tokens': 184}, 'system_fingerprint': None}\n",
      "{'id': 'chatcmpl-8vLUPPJJNAiVq8pTXYU2EbliqiKZD', 'object': 'chat.completion', 'created': 1708677993, 'model': 'gpt-4-0613', 'choices': [{'index': 0, 'message': {'role': 'assistant', 'content': '{\\n  \"score\": 9\\n}'}, 'logprobs': None, 'finish_reason': 'stop'}], 'usage': {'prompt_tokens': 180, 'completion_tokens': 9, 'total_tokens': 189}, 'system_fingerprint': None}\n",
      "{'id': 'chatcmpl-8vLUQ1c7eqsX5A43SpgZL1S0X4AYt', 'object': 'chat.completion', 'created': 1708677994, 'model': 'gpt-4-0613', 'choices': [{'index': 0, 'message': {'role': 'assistant', 'content': '{\\n  \"score\": 10\\n}'}, 'logprobs': None, 'finish_reason': 'stop'}], 'usage': {'prompt_tokens': 204, 'completion_tokens': 9, 'total_tokens': 213}, 'system_fingerprint': None}\n",
      "{'id': 'chatcmpl-8vLUSUQrCKeh1yGAIdYCD4UvhZ1vo', 'object': 'chat.completion', 'created': 1708677996, 'model': 'gpt-4-0613', 'choices': [{'index': 0, 'message': {'role': 'assistant', 'content': '{\"score\": 4}'}, 'logprobs': None, 'finish_reason': 'stop'}], 'usage': {'prompt_tokens': 171, 'completion_tokens': 6, 'total_tokens': 177}, 'system_fingerprint': None}\n",
      "{'id': 'chatcmpl-8vLUTSsyjf2wbKh4RvLYCzIptIseK', 'object': 'chat.completion', 'created': 1708677997, 'model': 'gpt-4-0613', 'choices': [{'index': 0, 'message': {'role': 'assistant', 'content': '{\\n  \"score\": 4\\n}'}, 'logprobs': None, 'finish_reason': 'stop'}], 'usage': {'prompt_tokens': 164, 'completion_tokens': 9, 'total_tokens': 173}, 'system_fingerprint': None}\n",
      "{'id': 'chatcmpl-8vLUV3KekNyyUXVtmqM58j6FCfEgK', 'object': 'chat.completion', 'created': 1708677999, 'model': 'gpt-4-0613', 'choices': [{'index': 0, 'message': {'role': 'assistant', 'content': '{\\n  \"score\": 7\\n}'}, 'logprobs': None, 'finish_reason': 'stop'}], 'usage': {'prompt_tokens': 181, 'completion_tokens': 9, 'total_tokens': 190}, 'system_fingerprint': None}\n",
      "{'id': 'chatcmpl-8vLUWKxraW59b31Nx51PY5GkBs5Um', 'object': 'chat.completion', 'created': 1708678000, 'model': 'gpt-4-0613', 'choices': [{'index': 0, 'message': {'role': 'assistant', 'content': '{\\n  \"score\": 9\\n}'}, 'logprobs': None, 'finish_reason': 'stop'}], 'usage': {'prompt_tokens': 176, 'completion_tokens': 9, 'total_tokens': 185}, 'system_fingerprint': None}\n",
      "{'id': 'chatcmpl-8vLUYohbChOWhCOKHPA0wAxgB5kuL', 'object': 'chat.completion', 'created': 1708678002, 'model': 'gpt-4-0613', 'choices': [{'index': 0, 'message': {'role': 'assistant', 'content': '{\\n  \"score\": 9\\n}'}, 'logprobs': None, 'finish_reason': 'stop'}], 'usage': {'prompt_tokens': 176, 'completion_tokens': 9, 'total_tokens': 185}, 'system_fingerprint': None}\n",
      "{'id': 'chatcmpl-8vLUaRsm2hzzjQHqNThZ84D3UHKQ6', 'object': 'chat.completion', 'created': 1708678004, 'model': 'gpt-4-0613', 'choices': [{'index': 0, 'message': {'role': 'assistant', 'content': '{\\n  \"score\": 1\\n}'}, 'logprobs': None, 'finish_reason': 'stop'}], 'usage': {'prompt_tokens': 172, 'completion_tokens': 9, 'total_tokens': 181}, 'system_fingerprint': None}\n",
      "{'id': 'chatcmpl-8vLUbMAe4PTYow8yHbbTRIxXHZ8ZA', 'object': 'chat.completion', 'created': 1708678005, 'model': 'gpt-4-0613', 'choices': [{'index': 0, 'message': {'role': 'assistant', 'content': '{\\n  \"score\": 10\\n}'}, 'logprobs': None, 'finish_reason': 'stop'}], 'usage': {'prompt_tokens': 286, 'completion_tokens': 9, 'total_tokens': 295}, 'system_fingerprint': None}\n",
      "{'id': 'chatcmpl-8vLUdHZxIVccJcJdLhzsQZ80JR86c', 'object': 'chat.completion', 'created': 1708678007, 'model': 'gpt-4-0613', 'choices': [{'index': 0, 'message': {'role': 'assistant', 'content': '{\\n  \"score\": 9\\n}'}, 'logprobs': None, 'finish_reason': 'stop'}], 'usage': {'prompt_tokens': 184, 'completion_tokens': 9, 'total_tokens': 193}, 'system_fingerprint': None}\n",
      "{'id': 'chatcmpl-8vLUeupJn8kfJgAB0D8C9I3xt8DwO', 'object': 'chat.completion', 'created': 1708678008, 'model': 'gpt-4-0613', 'choices': [{'index': 0, 'message': {'role': 'assistant', 'content': '{\"score\": 10}'}, 'logprobs': None, 'finish_reason': 'stop'}], 'usage': {'prompt_tokens': 319, 'completion_tokens': 6, 'total_tokens': 325}, 'system_fingerprint': None}\n",
      "{'id': 'chatcmpl-8vLUfV0NaXZMr7UCFK1YAkSmkvXI8', 'object': 'chat.completion', 'created': 1708678009, 'model': 'gpt-4-0613', 'choices': [{'index': 0, 'message': {'role': 'assistant', 'content': '{\\n  \"score\": 9\\n}'}, 'logprobs': None, 'finish_reason': 'stop'}], 'usage': {'prompt_tokens': 187, 'completion_tokens': 9, 'total_tokens': 196}, 'system_fingerprint': None}\n",
      "{'id': 'chatcmpl-8vLUgAqVJc6v8h5LAXfovUxejGY0a', 'object': 'chat.completion', 'created': 1708678010, 'model': 'gpt-4-0613', 'choices': [{'index': 0, 'message': {'role': 'assistant', 'content': '{\\n  \"score\": 10\\n}'}, 'logprobs': None, 'finish_reason': 'stop'}], 'usage': {'prompt_tokens': 202, 'completion_tokens': 9, 'total_tokens': 211}, 'system_fingerprint': None}\n",
      "{'id': 'chatcmpl-8vLUimoXjkuomQffkUBQdVNjt6qv8', 'object': 'chat.completion', 'created': 1708678012, 'model': 'gpt-4-0613', 'choices': [{'index': 0, 'message': {'role': 'assistant', 'content': '{\\n  \"score\": 8\\n}'}, 'logprobs': None, 'finish_reason': 'stop'}], 'usage': {'prompt_tokens': 186, 'completion_tokens': 9, 'total_tokens': 195}, 'system_fingerprint': None}\n",
      "{'id': 'chatcmpl-8vLUjODY7lAk0xeg8ummRUB4Ng86p', 'object': 'chat.completion', 'created': 1708678013, 'model': 'gpt-4-0613', 'choices': [{'index': 0, 'message': {'role': 'assistant', 'content': '{\\n  \"score\": 9\\n}'}, 'logprobs': None, 'finish_reason': 'stop'}], 'usage': {'prompt_tokens': 225, 'completion_tokens': 9, 'total_tokens': 234}, 'system_fingerprint': None}\n",
      "{'id': 'chatcmpl-8vLUkdK0HOIaNyGduyq4nek6lKo8X', 'object': 'chat.completion', 'created': 1708678014, 'model': 'gpt-4-0613', 'choices': [{'index': 0, 'message': {'role': 'assistant', 'content': '{\\n  \"score\": 10\\n}'}, 'logprobs': None, 'finish_reason': 'stop'}], 'usage': {'prompt_tokens': 215, 'completion_tokens': 9, 'total_tokens': 224}, 'system_fingerprint': None}\n",
      "{'id': 'chatcmpl-8vLUmrUhJEIu4A43Xrk0DC1eVarIq', 'object': 'chat.completion', 'created': 1708678016, 'model': 'gpt-4-0613', 'choices': [{'index': 0, 'message': {'role': 'assistant', 'content': '{\\n  \"score\": 9\\n}'}, 'logprobs': None, 'finish_reason': 'stop'}], 'usage': {'prompt_tokens': 215, 'completion_tokens': 9, 'total_tokens': 224}, 'system_fingerprint': None}\n",
      "{'id': 'chatcmpl-8vLUn0NFo9O6I27IcYdvhwCFZu1o6', 'object': 'chat.completion', 'created': 1708678017, 'model': 'gpt-4-0613', 'choices': [{'index': 0, 'message': {'role': 'assistant', 'content': '{\\n  \"score\": 9\\n}'}, 'logprobs': None, 'finish_reason': 'stop'}], 'usage': {'prompt_tokens': 224, 'completion_tokens': 9, 'total_tokens': 233}, 'system_fingerprint': None}\n",
      "{'id': 'chatcmpl-8vLUpS5B8bi6qmjxEumq4tAYG23uH', 'object': 'chat.completion', 'created': 1708678019, 'model': 'gpt-4-0613', 'choices': [{'index': 0, 'message': {'role': 'assistant', 'content': '{\\n  \"score\": 7\\n}'}, 'logprobs': None, 'finish_reason': 'stop'}], 'usage': {'prompt_tokens': 191, 'completion_tokens': 9, 'total_tokens': 200}, 'system_fingerprint': None}\n",
      "{'id': 'chatcmpl-8vLUqiEN8aviRTjZE6qLeSd57UOlj', 'object': 'chat.completion', 'created': 1708678020, 'model': 'gpt-4-0613', 'choices': [{'index': 0, 'message': {'role': 'assistant', 'content': '{\"score\": 10}'}, 'logprobs': None, 'finish_reason': 'stop'}], 'usage': {'prompt_tokens': 229, 'completion_tokens': 6, 'total_tokens': 235}, 'system_fingerprint': None}\n",
      "{'id': 'chatcmpl-8vLUrGXpfaiYJYcldxP56FmXaU2dx', 'object': 'chat.completion', 'created': 1708678021, 'model': 'gpt-4-0613', 'choices': [{'index': 0, 'message': {'role': 'assistant', 'content': '{\\n  \"score\": 8\\n}'}, 'logprobs': None, 'finish_reason': 'stop'}], 'usage': {'prompt_tokens': 236, 'completion_tokens': 9, 'total_tokens': 245}, 'system_fingerprint': None}\n",
      "{'id': 'chatcmpl-8vLUsKefuiQ7s2UAAXotLcPN4BfaP', 'object': 'chat.completion', 'created': 1708678022, 'model': 'gpt-4-0613', 'choices': [{'index': 0, 'message': {'role': 'assistant', 'content': '{\"score\": 9}'}, 'logprobs': None, 'finish_reason': 'stop'}], 'usage': {'prompt_tokens': 216, 'completion_tokens': 6, 'total_tokens': 222}, 'system_fingerprint': None}\n"
     ]
    }
   ],
   "source": [
    "ranked_results = rank_results(result, user_prompt)"
   ]
  },
  {
   "cell_type": "code",
   "execution_count": 64,
   "metadata": {},
   "outputs": [
    {
     "data": {
      "text/plain": [
       "[(\"I'm seeking $50,000 in exchange for 50% of my. Company. Wow. Sharks.\", 10),\n",
       " ('Sarah and Syed came in seeking $270,000 for 2% of their eco friendly cleaning product company, Blue Land. Lori and Daniel have offered 270,000 for 8%, and Kevin has offered 270,000 for 6%.',\n",
       "  10),\n",
       " (\"I'm going to make you an offer. But before I do, I want you to take a big breath because you're going to need it. Let's do it together. You're not going to like the number, and it's not going to be equity, that's for sure. I feel better about this offer than I even felt a few seconds ago. So here's what it is. You have good cash flow in this company, so you can support some debt. I'm going to give you the million bucks in a loan. 36 months, three years. Okay? 9% interest. And I want seven and a half percent equity.\",\n",
       "  10),\n",
       " (\"You're allowed to counter? Yeah, or he'll pull it. Okay. What do you think? I think it's a very valid point. Right. So we'll do a million for 6% of the. Not 6% interest rate. 6%. The deal now is you're countering me. Instead of giving me 9% interest, you want to give me six. Yes. But I keep my seven and a half percent. Right. 5% for 5%. Five. All right. Because we're all reasonable. We meet in the middle, okay? That's how we get this deal done. So I'm at nine, you're at six. Seven and a half percent interest, no problem above 6% equity. Six and a quarter. Pretty sharp little numberonis.\",\n",
       "  10),\n",
       " (\"So guess what, young lady. I'm going to make you an offer because I have to be along with this journey. I'm giving you 50,000 for 50%. Wow. Flora me. You have a deal. Congratulations.\",\n",
       "  10),\n",
       " (\"This year I'm projected to do $5.6 million. What are you going to make on the 5.6 million? I'm going to make $1.3 million with the tariffs accounted for. So you're making 20 plus percent margins. 25%. Why do you need a shark?\",\n",
       "  10),\n",
       " (\"Barbara and I will put our offer out first. Okay. All right. Because I think we bring a lot to the table. Okay. I think Lori first. Because then they discuss longer. So to be fair. Okay, here's our offer. Mark and I are going to give you the 750,000. For 20% because you got us both. Okay.\",\n",
       "  10),\n",
       " (\"And we're here seeking $270,000 for 2% of our company, Blue Land.\", 9.5),\n",
       " (\"Here's where I'm at. $500,000 for 20% of a startup that has no revenue is way too high. You asked for too much. You made a strategic error. I'm out.\",\n",
       "  9),\n",
       " ('I would propose, without consulting with Lori, that we invest a million dollars. Whoa. For 25% of the company.',\n",
       "  9),\n",
       " ('My offer is 270,000 for 6%, and the other is 270 for 8%. What do you want to do?',\n",
       "  9)]"
      ]
     },
     "execution_count": 64,
     "metadata": {},
     "output_type": "execute_result"
    }
   ],
   "source": [
    "ranked_results"
   ]
  },
  {
   "cell_type": "code",
   "execution_count": 65,
   "metadata": {},
   "outputs": [],
   "source": [
    "# search matching video segments and watch the stream\n",
    "from videodb import SearchType\n",
    "from videodb.timeline import Timeline, VideoAsset, AudioAsset\n",
    "\n",
    "timeline = Timeline(conn)\n",
    "for sentences, score in ranked_results:\n",
    "    search_res = video.search(sentences, search_type=SearchType.keyword)\n",
    "    matched_segments = search_res.get_shots()\n",
    "    \n",
    "    #no exact match found.\n",
    "    if len(matched_segments) == 0:\n",
    "        continue\n",
    "\n",
    "    # get the first video matched segment\n",
    "    video_shot = matched_segments[0]\n",
    "\n",
    "    #Create a new Video Asset and add it to a timeline.\n",
    "    timeline.add_inline(VideoAsset(asset_id=video.id, start=video_shot.start, end=video_shot.end))"
   ]
  },
  {
   "cell_type": "code",
   "execution_count": 66,
   "metadata": {},
   "outputs": [
    {
     "data": {
      "text/plain": [
       "'https://console.videodb.io/player?url=https://stream.videodb.io/v3/published/manifests/8283a3a0-3df5-4f3b-b67b-805792139dd2.m3u8'"
      ]
     },
     "execution_count": 66,
     "metadata": {},
     "output_type": "execute_result"
    }
   ],
   "source": [
    "stream = timeline.generate_stream()\n",
    "play_stream(stream)"
   ]
  },
  {
   "cell_type": "markdown",
   "metadata": {},
   "source": [
    "### Add some sound effects to it 🎶\n",
    "\n",
    "Not just this we can jazz it up with audio overlays and create another stream with audio overlays."
   ]
  },
  {
   "cell_type": "code",
   "execution_count": 67,
   "metadata": {},
   "outputs": [],
   "source": [
    "# Add music overlay, this can be laughter soundtrack\n",
    "audio = conn.upload(url=\"https://www.youtube.com/watch?v=q3VVxbJa61Q\", media_type=MediaType.audio)"
   ]
  },
  {
   "cell_type": "code",
   "execution_count": 22,
   "metadata": {},
   "outputs": [],
   "source": [
    "# 5 sec background music\n",
    "background = AudioAsset(asset_id=audio.id, start=3, end=4, disable_other_tracks=True)"
   ]
  },
  {
   "cell_type": "code",
   "execution_count": null,
   "metadata": {},
   "outputs": [],
   "source": [
    "timeline = Timeline(conn)\n",
    "dur_so_far = 0\n",
    "for clip_sentences in ranked_results:\n",
    "    try:\n",
    "        search_res = video.search(clip_sentences, search_type=SearchType.keyword)\n",
    "        matched_segments = search_res.get_shots()\n",
    "        \n",
    "        #no exact match found.\n",
    "        if len(matched_segments) == 0:\n",
    "            continue\n",
    "    \n",
    "        #video segment\n",
    "        video_shot = matched_segments[0]\n",
    "    \n",
    "        #Create a new Video Asset and add it to a timeline.\n",
    "        timeline.add_inline(VideoAsset(asset_id=video.id, start=video_shot.start, end=video_shot.end))\n",
    "    \n",
    "        dur_so_far += (video_shot.end - video_shot.start)\n",
    "        timeline.add_overlay(dur_so_far-2,background)\n",
    "     except Exception as e:\n",
    "        print(f\"Error: skipping the segment {str(e)}\")"
   ]
  },
  {
   "cell_type": "code",
   "execution_count": 24,
   "metadata": {
    "scrolled": true
   },
   "outputs": [
    {
     "data": {
      "text/plain": [
       "'https://console.videodb.io/player?url=https://stream.videodb.io/v3/published/manifests/9cd651a1-7d52-42a0-b27b-deb385165c47.m3u8'"
      ]
     },
     "execution_count": 24,
     "metadata": {},
     "output_type": "execute_result"
    }
   ],
   "source": [
    "#add music overlay in the last 2 sec of each supercut.\n",
    "stream = timeline.generate_stream()\n",
    "play_stream(stream)"
   ]
  },
  {
   "cell_type": "markdown",
   "metadata": {},
   "source": [
    "If you have any questions or feedback. Feel free to reach out to us 🙌🏼\n",
    "\n",
    "* [Discord](https://colab.research.google.com/corgiredirector?site=https%3A%2F%2Fdiscord.gg%2Fpy9P639jGz)\n",
    "* [GitHub](https://github.com/video-db)\n",
    "* [Website](https://colab.research.google.com/corgiredirector?site=https%3A%2F%2Fvideodb.io)\n",
    "* [Email](ashu@videodb.io)"
   ]
  }
 ],
 "metadata": {
  "kernelspec": {
   "display_name": "Python 3 (ipykernel)",
   "language": "python",
   "name": "python3"
  },
  "language_info": {
   "codemirror_mode": {
    "name": "ipython",
    "version": 3
   },
   "file_extension": ".py",
   "mimetype": "text/x-python",
   "name": "python",
   "nbconvert_exporter": "python",
   "pygments_lexer": "ipython3",
   "version": "3.12.4"
  }
 },
 "nbformat": 4,
 "nbformat_minor": 4
}
